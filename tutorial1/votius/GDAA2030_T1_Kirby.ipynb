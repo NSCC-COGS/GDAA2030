{
  "nbformat": 4,
  "nbformat_minor": 0,
  "metadata": {
    "colab": {
      "name": "GDAA2030_T1_Kirby.ipynb",
      "provenance": [],
      "collapsed_sections": []
    },
    "kernelspec": {
      "name": "python3",
      "display_name": "Python 3"
    }
  },
  "cells": [
    {
      "cell_type": "code",
      "metadata": {
        "id": "7t9Am2f5agIs",
        "colab_type": "code",
        "outputId": "e1133401-7e6a-44a2-dcd8-c2c21ea9644b",
        "colab": {
          "base_uri": "https://localhost:8080/",
          "height": 136
        }
      },
      "source": [
        "#!git clone https://github.com/NSCC-COGS/GDAA2030.git"
      ],
      "execution_count": 0,
      "outputs": [
        {
          "output_type": "stream",
          "text": [
            "Cloning into 'GDAA2030'...\n",
            "remote: Enumerating objects: 138, done.\u001b[K\n",
            "remote: Counting objects: 100% (138/138), done.\u001b[K\n",
            "remote: Compressing objects: 100% (112/112), done.\u001b[K\n",
            "remote: Total 138 (delta 34), reused 65 (delta 13), pack-reused 0\u001b[K\n",
            "Receiving objects: 100% (138/138), 10.95 MiB | 16.51 MiB/s, done.\n",
            "Resolving deltas: 100% (34/34), done.\n"
          ],
          "name": "stdout"
        }
      ]
    },
    {
      "cell_type": "code",
      "metadata": {
        "id": "dK0XXndybCVC",
        "colab_type": "code",
        "colab": {}
      },
      "source": [
        "# import libraies\n",
        "import numpy as np\n",
        "from matplotlib import pyplot as plt\n",
        "from PIL import Image\n",
        "\n",
        "\n",
        "# # set variable to our selected image (stored locally)\n",
        "# imagePath = '/content/GDAA2030/tutorial1/votius/GDAA2030_T1_Kirby.png'\n",
        "\n",
        "# # creates a variable as a pillow object from image\n",
        "# im = Image.open(imagePath)\n",
        "import requests\n",
        "import matplotlib.image as mpimg\n",
        "\n",
        "url = 'https://github.com/NSCC-COGS/GDAA2030/blob/master/tutorial1/votius/GDAA2030_T1_Kirby.png?raw=true'\n",
        "\n",
        "img_raw = requests.get(url, stream=True).raw\n",
        "\n",
        "im = mpimg.imread(img_raw)\n",
        "\n",
        "# ceates a variable as a numpy array from the pillow object\n",
        "imarray = np.array(im)\n",
        "\n",
        "# a list of the available bands in the image, would be more in a MS/HS image\n",
        "bands = [0,1,2]\n",
        "\n",
        "# declaring the figure object pror to the loop to title it\n",
        "plt.figure(num='Mark Kirby - Assignment 1')\n",
        "\n",
        "# loop through the bands and creates a 2 x 3 array of subplots\n",
        "# the first row is an image of a single band from the image\n",
        "# the second row is a histogram of each band in the image\n",
        "# ADDITIONAL: Added titles to each subplot, adjusted spacing for nicer output\n",
        "for index in bands:\n",
        "\n",
        "    # first row of the subplot: index +1 results in first, second, third subpot\n",
        "    plt.subplot(2,3, index+1)\n",
        "    plt.title('Band ' + str(index+1))\n",
        "    plt.imshow(imarray[:,:,index], cmap=\"gray\")\n",
        "\n",
        "    # second row of the subplot: index +1 +3 results in fourth, fifth, sixth subplot\n",
        "    plt.subplot(2,3,index+1+3)\n",
        "    plt.title('Band ' + str(index+1))\n",
        "    plt.hist(imarray[:,:,index].flatten(), bins=20)\n",
        "\n",
        "    # adjust some spacing for more nicer output\n",
        "    plt.subplots_adjust(wspace=.3, hspace=.3)\n",
        "\n",
        "# opens the populated plot window\n",
        "plt.show()"
      ],
      "execution_count": 0,
      "outputs": []
    }
  ]
}